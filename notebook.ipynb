{
 "cells": [
  {
   "cell_type": "markdown",
   "metadata": {},
   "source": [
    "# Exam preparation"
   ]
  },
  {
   "cell_type": "markdown",
   "metadata": {},
   "source": [
    "## Whirlwind, Lists, Loops, Cond. Stmts., Functions, Modules, Dicts"
   ]
  },
  {
   "cell_type": "markdown",
   "metadata": {},
   "source": [
    "### What is the difference between a list and a dictionary?"
   ]
  },
  {
   "cell_type": "markdown",
   "metadata": {},
   "source": [
    "A list contains a sequence of items called elements. The elements in the list can be accessed using their index. Like in most other languages, the index of lists start at `0`. This means that an array of size `5` has indecies from `0` through `4`."
   ]
  },
  {
   "cell_type": "code",
   "execution_count": 9,
   "metadata": {},
   "outputs": [
    {
     "data": {
      "text/plain": [
       "(1, 5)"
      ]
     },
     "execution_count": 9,
     "metadata": {},
     "output_type": "execute_result"
    }
   ],
   "source": [
    "numbers = [1, 2, 3, 4, 5]\n",
    "first = numbers[0]\n",
    "last = numbers[4]\n",
    "\n",
    "(first, last)"
   ]
  },
  {
   "cell_type": "markdown",
   "metadata": {},
   "source": [
    "If you access an index that are out of bounds from the array, an error occurred."
   ]
  },
  {
   "cell_type": "code",
   "execution_count": 10,
   "metadata": {},
   "outputs": [
    {
     "ename": "IndexError",
     "evalue": "list index out of range",
     "output_type": "error",
     "traceback": [
      "\u001b[1;31m---------------------------------------------------------------------------\u001b[0m",
      "\u001b[1;31mIndexError\u001b[0m                                Traceback (most recent call last)",
      "\u001b[1;32m<ipython-input-10-8608fc38bf23>\u001b[0m in \u001b[0;36m<module>\u001b[1;34m\u001b[0m\n\u001b[1;32m----> 1\u001b[1;33m \u001b[0mnumbers\u001b[0m\u001b[1;33m[\u001b[0m\u001b[1;36m5\u001b[0m\u001b[1;33m]\u001b[0m\u001b[1;33m\u001b[0m\u001b[1;33m\u001b[0m\u001b[0m\n\u001b[0m",
      "\u001b[1;31mIndexError\u001b[0m: list index out of range"
     ]
    }
   ],
   "source": [
    "numbers[5]"
   ]
  },
  {
   "cell_type": "markdown",
   "metadata": {},
   "source": [
    "A dictionary contains key-value pairs. This means that you insert values into a key. You can then access values by the key they were inserted with."
   ]
  },
  {
   "cell_type": "markdown",
   "metadata": {},
   "source": [
    "> A dictionary is a collection which is unordered, changeable and indexed. In Python dictionaries are written with curly brackets, and they have keys and values.\n",
    "\n",
    "> Dictionaries are Python’s implementation of a data structure that is more generally known as an associative array. A dictionary consists of a collection of key-value pairs. Each key-value pair maps the key to its associated value."
   ]
  },
  {
   "cell_type": "markdown",
   "metadata": {},
   "source": [
    "You can create a new dictionary in python by using curly brackets."
   ]
  },
  {
   "cell_type": "code",
   "execution_count": 13,
   "metadata": {},
   "outputs": [
    {
     "data": {
      "text/plain": [
       "{'name': 'Thomas', 'age': 21}"
      ]
     },
     "execution_count": 13,
     "metadata": {},
     "output_type": "execute_result"
    }
   ],
   "source": [
    "d = {\"name\": \"Thomas\", \"age\": 21}\n",
    "d"
   ]
  },
  {
   "cell_type": "markdown",
   "metadata": {},
   "source": [
    "This dictionary now contains two entries (pair). The first pair has the key `name` and the value `Thomas`. The second entry has the key `age` and the value `21`."
   ]
  },
  {
   "cell_type": "markdown",
   "metadata": {},
   "source": [
    "We can access any value by using their associated key."
   ]
  },
  {
   "cell_type": "code",
   "execution_count": 15,
   "metadata": {},
   "outputs": [
    {
     "data": {
      "text/plain": [
       "'Thomas'"
      ]
     },
     "execution_count": 15,
     "metadata": {},
     "output_type": "execute_result"
    }
   ],
   "source": [
    "d[\"name\"]"
   ]
  },
  {
   "cell_type": "markdown",
   "metadata": {},
   "source": [
    "Like lists, you get an error, if the provided key does not exist in the dictionary."
   ]
  },
  {
   "cell_type": "code",
   "execution_count": 17,
   "metadata": {},
   "outputs": [
    {
     "ename": "KeyError",
     "evalue": "'unknown'",
     "output_type": "error",
     "traceback": [
      "\u001b[1;31m---------------------------------------------------------------------------\u001b[0m",
      "\u001b[1;31mKeyError\u001b[0m                                  Traceback (most recent call last)",
      "\u001b[1;32m<ipython-input-17-ca6736e254e7>\u001b[0m in \u001b[0;36m<module>\u001b[1;34m\u001b[0m\n\u001b[1;32m----> 1\u001b[1;33m \u001b[0md\u001b[0m\u001b[1;33m[\u001b[0m\u001b[1;34m\"unknown\"\u001b[0m\u001b[1;33m]\u001b[0m\u001b[1;33m\u001b[0m\u001b[1;33m\u001b[0m\u001b[0m\n\u001b[0m",
      "\u001b[1;31mKeyError\u001b[0m: 'unknown'"
     ]
    }
   ],
   "source": [
    "d[\"unknown\"]"
   ]
  },
  {
   "cell_type": "markdown",
   "metadata": {},
   "source": [
    "These are some of the methods on the dictionary type:"
   ]
  },
  {
   "cell_type": "markdown",
   "metadata": {},
   "source": [
    "**`get` allows for accessing a value using its a key. This does not produce an error as seen above.**"
   ]
  },
  {
   "cell_type": "code",
   "execution_count": 18,
   "metadata": {},
   "outputs": [],
   "source": [
    "d.get(\"unknown\") # returns null since the key does not exist."
   ]
  },
  {
   "cell_type": "markdown",
   "metadata": {},
   "source": [
    "**`items` returns a list of 2-length tuples. Each tuple represents a key-value pair in the dictionary.**"
   ]
  },
  {
   "cell_type": "code",
   "execution_count": 20,
   "metadata": {},
   "outputs": [
    {
     "data": {
      "text/plain": [
       "dict_items([('name', 'Thomas'), ('age', 21)])"
      ]
     },
     "execution_count": 20,
     "metadata": {},
     "output_type": "execute_result"
    }
   ],
   "source": [
    "d.items()"
   ]
  },
  {
   "cell_type": "markdown",
   "metadata": {},
   "source": [
    "**`keys` returns a list of the keys in the dictionary.**"
   ]
  },
  {
   "cell_type": "code",
   "execution_count": 22,
   "metadata": {},
   "outputs": [
    {
     "data": {
      "text/plain": [
       "dict_keys(['name', 'age'])"
      ]
     },
     "execution_count": 22,
     "metadata": {},
     "output_type": "execute_result"
    }
   ],
   "source": [
    "d.keys()"
   ]
  },
  {
   "cell_type": "markdown",
   "metadata": {},
   "source": [
    "**`values` returns a list of the values in the dictionary.**"
   ]
  },
  {
   "cell_type": "code",
   "execution_count": 24,
   "metadata": {},
   "outputs": [
    {
     "data": {
      "text/plain": [
       "dict_values(['Thomas', 21])"
      ]
     },
     "execution_count": 24,
     "metadata": {},
     "output_type": "execute_result"
    }
   ],
   "source": [
    "d.values()"
   ]
  },
  {
   "cell_type": "markdown",
   "metadata": {},
   "source": [
    "**`update` adds a new key-value pair to the dictionary. Note that this overrides any existing key-value pair with the same key.**"
   ]
  },
  {
   "cell_type": "code",
   "execution_count": 28,
   "metadata": {},
   "outputs": [
    {
     "data": {
      "text/plain": [
       "{'name': 'Kasper', 'age': 21}"
      ]
     },
     "execution_count": 28,
     "metadata": {},
     "output_type": "execute_result"
    }
   ],
   "source": [
    "d.update([(\"name\", \"Kasper\")])\n",
    "d"
   ]
  },
  {
   "cell_type": "markdown",
   "metadata": {},
   "source": [
    "Alternatively you can use the normal python update syntax:"
   ]
  },
  {
   "cell_type": "code",
   "execution_count": 31,
   "metadata": {},
   "outputs": [
    {
     "data": {
      "text/plain": [
       "{'name': 'Sanne', 'age': 21}"
      ]
     },
     "execution_count": 31,
     "metadata": {},
     "output_type": "execute_result"
    }
   ],
   "source": [
    "d[\"name\"] = \"Sanne\"\n",
    "d"
   ]
  },
  {
   "cell_type": "markdown",
   "metadata": {},
   "source": [
    "**`in` operator checks if a key exists in the dictionary**"
   ]
  },
  {
   "cell_type": "code",
   "execution_count": 35,
   "metadata": {},
   "outputs": [
    {
     "data": {
      "text/plain": [
       "(True, False)"
      ]
     },
     "execution_count": 35,
     "metadata": {},
     "output_type": "execute_result"
    }
   ],
   "source": [
    "has_name = \"name\" in d\n",
    "has_unknown = \"unknown\" in d\n",
    "\n",
    "(has_name, has_unknown)"
   ]
  },
  {
   "cell_type": "markdown",
   "metadata": {},
   "source": [
    "### How do you write a module in Python?"
   ]
  },
  {
   "cell_type": "markdown",
   "metadata": {},
   "source": [
    "Modules in python are just python files. When you import the module, you gain access to the module as a variable. When using `import` it's expected of the interpreter that it can find a python file (`.py`) with the same name, in the same folder."
   ]
  },
  {
   "cell_type": "code",
   "execution_count": 38,
   "metadata": {},
   "outputs": [
    {
     "data": {
      "text/plain": [
       "'hello from my_module.f_1'"
      ]
     },
     "execution_count": 38,
     "metadata": {},
     "output_type": "execute_result"
    }
   ],
   "source": [
    "import my_module\n",
    "my_module.f_1()"
   ]
  },
  {
   "cell_type": "markdown",
   "metadata": {},
   "source": [
    "You can also use an alias, to avoid name-collisions when importing multiple modules. "
   ]
  },
  {
   "cell_type": "code",
   "execution_count": 40,
   "metadata": {},
   "outputs": [
    {
     "data": {
      "text/plain": [
       "'hello from my_module.f_1'"
      ]
     },
     "execution_count": 40,
     "metadata": {},
     "output_type": "execute_result"
    }
   ],
   "source": [
    "import my_module as my_mod\n",
    "my_mod.f_1()"
   ]
  },
  {
   "cell_type": "markdown",
   "metadata": {},
   "source": [
    "You can also import functions defined in the module by using the `from` keyword."
   ]
  },
  {
   "cell_type": "code",
   "execution_count": 41,
   "metadata": {},
   "outputs": [
    {
     "data": {
      "text/plain": [
       "'helo from my_module.f_2'"
      ]
     },
     "execution_count": 41,
     "metadata": {},
     "output_type": "execute_result"
    }
   ],
   "source": [
    "from my_module import f_2\n",
    "f_2()"
   ]
  },
  {
   "cell_type": "markdown",
   "metadata": {},
   "source": [
    "## Files, CLI, OO, Exceptions"
   ]
  },
  {
   "cell_type": "markdown",
   "metadata": {},
   "source": [
    "### How do you open a file in Python?"
   ]
  },
  {
   "cell_type": "markdown",
   "metadata": {},
   "source": [
    "https://docs.python.org/3/library/functions.html#open\n",
    "\n",
    "The normal way to open a file using python, is by using the `open` function.\n",
    "`open(file, mode='r', buffering=-1, encoding=None, errors=None, newline=None, closefd=True, opener=None)`\n",
    "\n",
    "The function takes many parameters, the most important being the `file` and `mode`.\n",
    "\n",
    "- The `file` parameter takes the path to the file to open.\n",
    "- The `mode` parameter takes a string, with the permissions needed.\n",
    "\n",
    "![](open_modes.png)"
   ]
  },
  {
   "cell_type": "code",
   "execution_count": 47,
   "metadata": {},
   "outputs": [
    {
     "name": "stdout",
     "output_type": "stream",
     "text": [
      "Thomas Rosenkrans Vestergaard\n",
      "Kristoffer Oscar LÃ¸ck TÃ¸lbÃ¸ll\n",
      "Mikkel Lindtner\n",
      "Mohammed Omer Ul Haq\n"
     ]
    }
   ],
   "source": [
    "with open(\"names.txt\") as f:\n",
    "    print(f.read())"
   ]
  },
  {
   "cell_type": "markdown",
   "metadata": {},
   "source": [
    "The default encoding is not utf-8. "
   ]
  },
  {
   "cell_type": "code",
   "execution_count": 48,
   "metadata": {},
   "outputs": [
    {
     "name": "stdout",
     "output_type": "stream",
     "text": [
      "Thomas Rosenkrans Vestergaard\n",
      "Kristoffer Oscar Løck Tølbøll\n",
      "Mikkel Lindtner\n",
      "Mohammed Omer Ul Haq\n"
     ]
    }
   ],
   "source": [
    "with open(\"names.txt\", encoding='utf-8') as f:\n",
    "    print(f.read())"
   ]
  },
  {
   "cell_type": "markdown",
   "metadata": {},
   "source": [
    "Note that we use the `with` control-flow structure, that ensures that our resource is closed after use. Below an error occurs, because the resource was closed after we existed the with-block. The second call to `read` is therefor attempting to read from a closed resource."
   ]
  },
  {
   "cell_type": "code",
   "execution_count": 51,
   "metadata": {},
   "outputs": [
    {
     "ename": "ValueError",
     "evalue": "I/O operation on closed file.",
     "output_type": "error",
     "traceback": [
      "\u001b[1;31m---------------------------------------------------------------------------\u001b[0m",
      "\u001b[1;31mValueError\u001b[0m                                Traceback (most recent call last)",
      "\u001b[1;32m<ipython-input-51-268b5be30b3b>\u001b[0m in \u001b[0;36m<module>\u001b[1;34m\u001b[0m\n\u001b[0;32m      2\u001b[0m     \u001b[0mf\u001b[0m\u001b[1;33m.\u001b[0m\u001b[0mread\u001b[0m\u001b[1;33m(\u001b[0m\u001b[1;33m)\u001b[0m\u001b[1;33m\u001b[0m\u001b[1;33m\u001b[0m\u001b[0m\n\u001b[0;32m      3\u001b[0m \u001b[1;33m\u001b[0m\u001b[0m\n\u001b[1;32m----> 4\u001b[1;33m \u001b[0mprint\u001b[0m\u001b[1;33m(\u001b[0m\u001b[0mf\u001b[0m\u001b[1;33m.\u001b[0m\u001b[0mread\u001b[0m\u001b[1;33m(\u001b[0m\u001b[1;33m)\u001b[0m\u001b[1;33m)\u001b[0m\u001b[1;33m\u001b[0m\u001b[1;33m\u001b[0m\u001b[0m\n\u001b[0m",
      "\u001b[1;31mValueError\u001b[0m: I/O operation on closed file."
     ]
    }
   ],
   "source": [
    "with open(\"names.txt\", encoding='utf-8') as f:\n",
    "    f.read()\n",
    "\n",
    "print(f.read())"
   ]
  },
  {
   "cell_type": "markdown",
   "metadata": {},
   "source": [
    "### How do you throw an exception in Python?"
   ]
  },
  {
   "cell_type": "markdown",
   "metadata": {},
   "source": [
    "You throw exceptions in python using the `raise` keyword."
   ]
  },
  {
   "cell_type": "code",
   "execution_count": 52,
   "metadata": {},
   "outputs": [
    {
     "ename": "Exception",
     "evalue": "Some error occurred here.",
     "output_type": "error",
     "traceback": [
      "\u001b[1;31m---------------------------------------------------------------------------\u001b[0m",
      "\u001b[1;31mException\u001b[0m                                 Traceback (most recent call last)",
      "\u001b[1;32m<ipython-input-52-1ac293fa7a7f>\u001b[0m in \u001b[0;36m<module>\u001b[1;34m\u001b[0m\n\u001b[1;32m----> 1\u001b[1;33m \u001b[1;32mraise\u001b[0m \u001b[0mException\u001b[0m\u001b[1;33m(\u001b[0m\u001b[1;34m\"Some error occurred here.\"\u001b[0m\u001b[1;33m)\u001b[0m\u001b[1;33m\u001b[0m\u001b[1;33m\u001b[0m\u001b[0m\n\u001b[0m",
      "\u001b[1;31mException\u001b[0m: Some error occurred here."
     ]
    }
   ],
   "source": [
    "raise Exception(\"Some error occurred here.\")"
   ]
  },
  {
   "cell_type": "markdown",
   "metadata": {},
   "source": [
    "You can catch exceptions using the `try` and `except` keyword"
   ]
  },
  {
   "cell_type": "code",
   "execution_count": 55,
   "metadata": {},
   "outputs": [
    {
     "name": "stdout",
     "output_type": "stream",
     "text": [
      "Exception thrown in f.\n"
     ]
    }
   ],
   "source": [
    "def f():\n",
    "    raise Exception(\"Exception thrown in f.\")\n",
    "    \n",
    "try:\n",
    "    f()\n",
    "except(Exception) as e:\n",
    "    print(e)"
   ]
  },
  {
   "cell_type": "markdown",
   "metadata": {},
   "source": [
    "## Intro to Plotting"
   ]
  },
  {
   "cell_type": "markdown",
   "metadata": {},
   "source": [
    "### How do you plot a line chart in Matplotlib?"
   ]
  },
  {
   "cell_type": "code",
   "execution_count": 57,
   "metadata": {},
   "outputs": [],
   "source": [
    "import pandas as pd\n",
    "import numpy as np"
   ]
  },
  {
   "cell_type": "code",
   "execution_count": 61,
   "metadata": {},
   "outputs": [
    {
     "data": {
      "text/html": [
       "<div>\n",
       "<style scoped>\n",
       "    .dataframe tbody tr th:only-of-type {\n",
       "        vertical-align: middle;\n",
       "    }\n",
       "\n",
       "    .dataframe tbody tr th {\n",
       "        vertical-align: top;\n",
       "    }\n",
       "\n",
       "    .dataframe thead th {\n",
       "        text-align: right;\n",
       "    }\n",
       "</style>\n",
       "<table border=\"1\" class=\"dataframe\">\n",
       "  <thead>\n",
       "    <tr style=\"text-align: right;\">\n",
       "      <th></th>\n",
       "      <th>Country Name</th>\n",
       "      <th>Country Code</th>\n",
       "      <th>Indicator Name</th>\n",
       "      <th>Indicator Code</th>\n",
       "      <th>1960</th>\n",
       "      <th>1961</th>\n",
       "      <th>1962</th>\n",
       "      <th>1963</th>\n",
       "      <th>1964</th>\n",
       "      <th>1965</th>\n",
       "      <th>...</th>\n",
       "      <th>2010</th>\n",
       "      <th>2011</th>\n",
       "      <th>2012</th>\n",
       "      <th>2013</th>\n",
       "      <th>2014</th>\n",
       "      <th>2015</th>\n",
       "      <th>2016</th>\n",
       "      <th>2017</th>\n",
       "      <th>2018</th>\n",
       "      <th>Unnamed: 63</th>\n",
       "    </tr>\n",
       "  </thead>\n",
       "  <tbody>\n",
       "    <tr>\n",
       "      <th>0</th>\n",
       "      <td>Aruba</td>\n",
       "      <td>ABW</td>\n",
       "      <td>GDP (current US$)</td>\n",
       "      <td>NY.GDP.MKTP.CD</td>\n",
       "      <td>NaN</td>\n",
       "      <td>NaN</td>\n",
       "      <td>NaN</td>\n",
       "      <td>NaN</td>\n",
       "      <td>NaN</td>\n",
       "      <td>NaN</td>\n",
       "      <td>...</td>\n",
       "      <td>2.390503e+09</td>\n",
       "      <td>2.549721e+09</td>\n",
       "      <td>2.534637e+09</td>\n",
       "      <td>2.581564e+09</td>\n",
       "      <td>2.649721e+09</td>\n",
       "      <td>2.691620e+09</td>\n",
       "      <td>2.646927e+09</td>\n",
       "      <td>2.700559e+09</td>\n",
       "      <td>NaN</td>\n",
       "      <td>NaN</td>\n",
       "    </tr>\n",
       "    <tr>\n",
       "      <th>1</th>\n",
       "      <td>Afghanistan</td>\n",
       "      <td>AFG</td>\n",
       "      <td>GDP (current US$)</td>\n",
       "      <td>NY.GDP.MKTP.CD</td>\n",
       "      <td>5.377778e+08</td>\n",
       "      <td>5.488889e+08</td>\n",
       "      <td>5.466667e+08</td>\n",
       "      <td>7.511112e+08</td>\n",
       "      <td>8.000000e+08</td>\n",
       "      <td>1.006667e+09</td>\n",
       "      <td>...</td>\n",
       "      <td>1.585657e+10</td>\n",
       "      <td>1.780429e+10</td>\n",
       "      <td>1.990732e+10</td>\n",
       "      <td>2.056107e+10</td>\n",
       "      <td>2.048489e+10</td>\n",
       "      <td>1.990711e+10</td>\n",
       "      <td>1.904636e+10</td>\n",
       "      <td>1.954398e+10</td>\n",
       "      <td>NaN</td>\n",
       "      <td>NaN</td>\n",
       "    </tr>\n",
       "    <tr>\n",
       "      <th>2</th>\n",
       "      <td>Angola</td>\n",
       "      <td>AGO</td>\n",
       "      <td>GDP (current US$)</td>\n",
       "      <td>NY.GDP.MKTP.CD</td>\n",
       "      <td>NaN</td>\n",
       "      <td>NaN</td>\n",
       "      <td>NaN</td>\n",
       "      <td>NaN</td>\n",
       "      <td>NaN</td>\n",
       "      <td>NaN</td>\n",
       "      <td>...</td>\n",
       "      <td>8.379950e+10</td>\n",
       "      <td>1.117897e+11</td>\n",
       "      <td>1.280529e+11</td>\n",
       "      <td>1.367099e+11</td>\n",
       "      <td>1.457122e+11</td>\n",
       "      <td>1.161936e+11</td>\n",
       "      <td>1.011239e+11</td>\n",
       "      <td>1.221238e+11</td>\n",
       "      <td>NaN</td>\n",
       "      <td>NaN</td>\n",
       "    </tr>\n",
       "    <tr>\n",
       "      <th>3</th>\n",
       "      <td>Albania</td>\n",
       "      <td>ALB</td>\n",
       "      <td>GDP (current US$)</td>\n",
       "      <td>NY.GDP.MKTP.CD</td>\n",
       "      <td>NaN</td>\n",
       "      <td>NaN</td>\n",
       "      <td>NaN</td>\n",
       "      <td>NaN</td>\n",
       "      <td>NaN</td>\n",
       "      <td>NaN</td>\n",
       "      <td>...</td>\n",
       "      <td>1.192696e+10</td>\n",
       "      <td>1.289087e+10</td>\n",
       "      <td>1.231978e+10</td>\n",
       "      <td>1.277628e+10</td>\n",
       "      <td>1.322825e+10</td>\n",
       "      <td>1.138693e+10</td>\n",
       "      <td>1.188368e+10</td>\n",
       "      <td>1.303854e+10</td>\n",
       "      <td>NaN</td>\n",
       "      <td>NaN</td>\n",
       "    </tr>\n",
       "    <tr>\n",
       "      <th>4</th>\n",
       "      <td>Andorra</td>\n",
       "      <td>AND</td>\n",
       "      <td>GDP (current US$)</td>\n",
       "      <td>NY.GDP.MKTP.CD</td>\n",
       "      <td>NaN</td>\n",
       "      <td>NaN</td>\n",
       "      <td>NaN</td>\n",
       "      <td>NaN</td>\n",
       "      <td>NaN</td>\n",
       "      <td>NaN</td>\n",
       "      <td>...</td>\n",
       "      <td>3.355695e+09</td>\n",
       "      <td>3.442063e+09</td>\n",
       "      <td>3.164615e+09</td>\n",
       "      <td>3.281585e+09</td>\n",
       "      <td>3.350736e+09</td>\n",
       "      <td>2.811489e+09</td>\n",
       "      <td>2.877312e+09</td>\n",
       "      <td>3.012914e+09</td>\n",
       "      <td>NaN</td>\n",
       "      <td>NaN</td>\n",
       "    </tr>\n",
       "  </tbody>\n",
       "</table>\n",
       "<p>5 rows × 64 columns</p>\n",
       "</div>"
      ],
      "text/plain": [
       "  Country Name Country Code     Indicator Name  Indicator Code          1960  \\\n",
       "0        Aruba          ABW  GDP (current US$)  NY.GDP.MKTP.CD           NaN   \n",
       "1  Afghanistan          AFG  GDP (current US$)  NY.GDP.MKTP.CD  5.377778e+08   \n",
       "2       Angola          AGO  GDP (current US$)  NY.GDP.MKTP.CD           NaN   \n",
       "3      Albania          ALB  GDP (current US$)  NY.GDP.MKTP.CD           NaN   \n",
       "4      Andorra          AND  GDP (current US$)  NY.GDP.MKTP.CD           NaN   \n",
       "\n",
       "           1961          1962          1963          1964          1965  \\\n",
       "0           NaN           NaN           NaN           NaN           NaN   \n",
       "1  5.488889e+08  5.466667e+08  7.511112e+08  8.000000e+08  1.006667e+09   \n",
       "2           NaN           NaN           NaN           NaN           NaN   \n",
       "3           NaN           NaN           NaN           NaN           NaN   \n",
       "4           NaN           NaN           NaN           NaN           NaN   \n",
       "\n",
       "      ...               2010          2011          2012          2013  \\\n",
       "0     ...       2.390503e+09  2.549721e+09  2.534637e+09  2.581564e+09   \n",
       "1     ...       1.585657e+10  1.780429e+10  1.990732e+10  2.056107e+10   \n",
       "2     ...       8.379950e+10  1.117897e+11  1.280529e+11  1.367099e+11   \n",
       "3     ...       1.192696e+10  1.289087e+10  1.231978e+10  1.277628e+10   \n",
       "4     ...       3.355695e+09  3.442063e+09  3.164615e+09  3.281585e+09   \n",
       "\n",
       "           2014          2015          2016          2017  2018  Unnamed: 63  \n",
       "0  2.649721e+09  2.691620e+09  2.646927e+09  2.700559e+09   NaN          NaN  \n",
       "1  2.048489e+10  1.990711e+10  1.904636e+10  1.954398e+10   NaN          NaN  \n",
       "2  1.457122e+11  1.161936e+11  1.011239e+11  1.221238e+11   NaN          NaN  \n",
       "3  1.322825e+10  1.138693e+10  1.188368e+10  1.303854e+10   NaN          NaN  \n",
       "4  3.350736e+09  2.811489e+09  2.877312e+09  3.012914e+09   NaN          NaN  \n",
       "\n",
       "[5 rows x 64 columns]"
      ]
     },
     "execution_count": 61,
     "metadata": {},
     "output_type": "execute_result"
    }
   ],
   "source": [
    "gdp_data = pd.read_csv(\"gdp_data.csv\")\n",
    "gdp_data.head()"
   ]
  },
  {
   "cell_type": "code",
   "execution_count": 66,
   "metadata": {},
   "outputs": [
    {
     "data": {
      "text/plain": [
       "Index(['Aruba', 'Afghanistan', 'Angola', 'Albania', 'Andorra', 'Arab World',\n",
       "       'United Arab Emirates', 'Argentina', 'Armenia', 'American Samoa',\n",
       "       ...\n",
       "       'Virgin Islands (U.S.)', 'Vietnam', 'Vanuatu', 'World', 'Samoa',\n",
       "       'Kosovo', 'Yemen, Rep.', 'South Africa', 'Zambia', 'Zimbabwe'],\n",
       "      dtype='object', name='Country Name', length=264)"
      ]
     },
     "execution_count": 66,
     "metadata": {},
     "output_type": "execute_result"
    }
   ],
   "source": [
    "# I want the rows of the data frame to be accessed using their name\n",
    "gdp_data.index = gdp_data[\"Country Name\"]\n",
    "gdp_data.rename({\"Country Name\": \"Name\", \"Country Code\": \"Code\"}, inplace=True)\n",
    "gdp_data.head()\n",
    "gdp_data.index"
   ]
  },
  {
   "cell_type": "markdown",
   "metadata": {},
   "source": [
    "First i want to handle the 'NaN' values in the dataset."
   ]
  },
  {
   "cell_type": "code",
   "execution_count": 69,
   "metadata": {},
   "outputs": [
    {
     "data": {
      "text/html": [
       "<div>\n",
       "<style scoped>\n",
       "    .dataframe tbody tr th:only-of-type {\n",
       "        vertical-align: middle;\n",
       "    }\n",
       "\n",
       "    .dataframe tbody tr th {\n",
       "        vertical-align: top;\n",
       "    }\n",
       "\n",
       "    .dataframe thead th {\n",
       "        text-align: right;\n",
       "    }\n",
       "</style>\n",
       "<table border=\"1\" class=\"dataframe\">\n",
       "  <thead>\n",
       "    <tr style=\"text-align: right;\">\n",
       "      <th></th>\n",
       "      <th>Country Name</th>\n",
       "      <th>Country Code</th>\n",
       "      <th>Indicator Name</th>\n",
       "      <th>Indicator Code</th>\n",
       "      <th>1960</th>\n",
       "      <th>1961</th>\n",
       "      <th>1962</th>\n",
       "      <th>1963</th>\n",
       "      <th>1964</th>\n",
       "      <th>1965</th>\n",
       "      <th>...</th>\n",
       "      <th>2010</th>\n",
       "      <th>2011</th>\n",
       "      <th>2012</th>\n",
       "      <th>2013</th>\n",
       "      <th>2014</th>\n",
       "      <th>2015</th>\n",
       "      <th>2016</th>\n",
       "      <th>2017</th>\n",
       "      <th>2018</th>\n",
       "      <th>Unnamed: 63</th>\n",
       "    </tr>\n",
       "    <tr>\n",
       "      <th>Country Name</th>\n",
       "      <th></th>\n",
       "      <th></th>\n",
       "      <th></th>\n",
       "      <th></th>\n",
       "      <th></th>\n",
       "      <th></th>\n",
       "      <th></th>\n",
       "      <th></th>\n",
       "      <th></th>\n",
       "      <th></th>\n",
       "      <th></th>\n",
       "      <th></th>\n",
       "      <th></th>\n",
       "      <th></th>\n",
       "      <th></th>\n",
       "      <th></th>\n",
       "      <th></th>\n",
       "      <th></th>\n",
       "      <th></th>\n",
       "      <th></th>\n",
       "      <th></th>\n",
       "    </tr>\n",
       "  </thead>\n",
       "  <tbody>\n",
       "    <tr>\n",
       "      <th>Aruba</th>\n",
       "      <td>Aruba</td>\n",
       "      <td>ABW</td>\n",
       "      <td>GDP (current US$)</td>\n",
       "      <td>NY.GDP.MKTP.CD</td>\n",
       "      <td>NaN</td>\n",
       "      <td>NaN</td>\n",
       "      <td>NaN</td>\n",
       "      <td>NaN</td>\n",
       "      <td>NaN</td>\n",
       "      <td>NaN</td>\n",
       "      <td>...</td>\n",
       "      <td>2.390503e+09</td>\n",
       "      <td>2.549721e+09</td>\n",
       "      <td>2.534637e+09</td>\n",
       "      <td>2.581564e+09</td>\n",
       "      <td>2.649721e+09</td>\n",
       "      <td>2.691620e+09</td>\n",
       "      <td>2.646927e+09</td>\n",
       "      <td>2.700559e+09</td>\n",
       "      <td>NaN</td>\n",
       "      <td>NaN</td>\n",
       "    </tr>\n",
       "    <tr>\n",
       "      <th>Afghanistan</th>\n",
       "      <td>Afghanistan</td>\n",
       "      <td>AFG</td>\n",
       "      <td>GDP (current US$)</td>\n",
       "      <td>NY.GDP.MKTP.CD</td>\n",
       "      <td>5.377778e+08</td>\n",
       "      <td>5.488889e+08</td>\n",
       "      <td>5.466667e+08</td>\n",
       "      <td>7.511112e+08</td>\n",
       "      <td>8.000000e+08</td>\n",
       "      <td>1.006667e+09</td>\n",
       "      <td>...</td>\n",
       "      <td>1.585657e+10</td>\n",
       "      <td>1.780429e+10</td>\n",
       "      <td>1.990732e+10</td>\n",
       "      <td>2.056107e+10</td>\n",
       "      <td>2.048489e+10</td>\n",
       "      <td>1.990711e+10</td>\n",
       "      <td>1.904636e+10</td>\n",
       "      <td>1.954398e+10</td>\n",
       "      <td>NaN</td>\n",
       "      <td>NaN</td>\n",
       "    </tr>\n",
       "    <tr>\n",
       "      <th>Angola</th>\n",
       "      <td>Angola</td>\n",
       "      <td>AGO</td>\n",
       "      <td>GDP (current US$)</td>\n",
       "      <td>NY.GDP.MKTP.CD</td>\n",
       "      <td>2.341319e+09</td>\n",
       "      <td>2.458834e+09</td>\n",
       "      <td>4.530656e+09</td>\n",
       "      <td>3.671280e+09</td>\n",
       "      <td>4.934208e+09</td>\n",
       "      <td>5.563007e+09</td>\n",
       "      <td>...</td>\n",
       "      <td>8.379950e+10</td>\n",
       "      <td>1.117897e+11</td>\n",
       "      <td>1.280529e+11</td>\n",
       "      <td>1.367099e+11</td>\n",
       "      <td>1.457122e+11</td>\n",
       "      <td>1.161936e+11</td>\n",
       "      <td>1.011239e+11</td>\n",
       "      <td>1.221238e+11</td>\n",
       "      <td>NaN</td>\n",
       "      <td>NaN</td>\n",
       "    </tr>\n",
       "    <tr>\n",
       "      <th>Albania</th>\n",
       "      <td>Albania</td>\n",
       "      <td>ALB</td>\n",
       "      <td>GDP (current US$)</td>\n",
       "      <td>NY.GDP.MKTP.CD</td>\n",
       "      <td>4.144860e+09</td>\n",
       "      <td>4.368778e+09</td>\n",
       "      <td>8.514646e+09</td>\n",
       "      <td>6.591449e+09</td>\n",
       "      <td>9.068416e+09</td>\n",
       "      <td>1.011935e+10</td>\n",
       "      <td>...</td>\n",
       "      <td>1.192696e+10</td>\n",
       "      <td>1.289087e+10</td>\n",
       "      <td>1.231978e+10</td>\n",
       "      <td>1.277628e+10</td>\n",
       "      <td>1.322825e+10</td>\n",
       "      <td>1.138693e+10</td>\n",
       "      <td>1.188368e+10</td>\n",
       "      <td>1.303854e+10</td>\n",
       "      <td>NaN</td>\n",
       "      <td>NaN</td>\n",
       "    </tr>\n",
       "    <tr>\n",
       "      <th>Andorra</th>\n",
       "      <td>Andorra</td>\n",
       "      <td>AND</td>\n",
       "      <td>GDP (current US$)</td>\n",
       "      <td>NY.GDP.MKTP.CD</td>\n",
       "      <td>5.948401e+09</td>\n",
       "      <td>6.278723e+09</td>\n",
       "      <td>1.249864e+10</td>\n",
       "      <td>9.511617e+09</td>\n",
       "      <td>1.320262e+10</td>\n",
       "      <td>1.467569e+10</td>\n",
       "      <td>...</td>\n",
       "      <td>3.355695e+09</td>\n",
       "      <td>3.442063e+09</td>\n",
       "      <td>3.164615e+09</td>\n",
       "      <td>3.281585e+09</td>\n",
       "      <td>3.350736e+09</td>\n",
       "      <td>2.811489e+09</td>\n",
       "      <td>2.877312e+09</td>\n",
       "      <td>3.012914e+09</td>\n",
       "      <td>NaN</td>\n",
       "      <td>NaN</td>\n",
       "    </tr>\n",
       "  </tbody>\n",
       "</table>\n",
       "<p>5 rows × 64 columns</p>\n",
       "</div>"
      ],
      "text/plain": [
       "             Country Name Country Code     Indicator Name  Indicator Code  \\\n",
       "Country Name                                                                \n",
       "Aruba               Aruba          ABW  GDP (current US$)  NY.GDP.MKTP.CD   \n",
       "Afghanistan   Afghanistan          AFG  GDP (current US$)  NY.GDP.MKTP.CD   \n",
       "Angola             Angola          AGO  GDP (current US$)  NY.GDP.MKTP.CD   \n",
       "Albania           Albania          ALB  GDP (current US$)  NY.GDP.MKTP.CD   \n",
       "Andorra           Andorra          AND  GDP (current US$)  NY.GDP.MKTP.CD   \n",
       "\n",
       "                      1960          1961          1962          1963  \\\n",
       "Country Name                                                           \n",
       "Aruba                  NaN           NaN           NaN           NaN   \n",
       "Afghanistan   5.377778e+08  5.488889e+08  5.466667e+08  7.511112e+08   \n",
       "Angola        2.341319e+09  2.458834e+09  4.530656e+09  3.671280e+09   \n",
       "Albania       4.144860e+09  4.368778e+09  8.514646e+09  6.591449e+09   \n",
       "Andorra       5.948401e+09  6.278723e+09  1.249864e+10  9.511617e+09   \n",
       "\n",
       "                      1964          1965     ...               2010  \\\n",
       "Country Name                                 ...                      \n",
       "Aruba                  NaN           NaN     ...       2.390503e+09   \n",
       "Afghanistan   8.000000e+08  1.006667e+09     ...       1.585657e+10   \n",
       "Angola        4.934208e+09  5.563007e+09     ...       8.379950e+10   \n",
       "Albania       9.068416e+09  1.011935e+10     ...       1.192696e+10   \n",
       "Andorra       1.320262e+10  1.467569e+10     ...       3.355695e+09   \n",
       "\n",
       "                      2011          2012          2013          2014  \\\n",
       "Country Name                                                           \n",
       "Aruba         2.549721e+09  2.534637e+09  2.581564e+09  2.649721e+09   \n",
       "Afghanistan   1.780429e+10  1.990732e+10  2.056107e+10  2.048489e+10   \n",
       "Angola        1.117897e+11  1.280529e+11  1.367099e+11  1.457122e+11   \n",
       "Albania       1.289087e+10  1.231978e+10  1.277628e+10  1.322825e+10   \n",
       "Andorra       3.442063e+09  3.164615e+09  3.281585e+09  3.350736e+09   \n",
       "\n",
       "                      2015          2016          2017  2018  Unnamed: 63  \n",
       "Country Name                                                               \n",
       "Aruba         2.691620e+09  2.646927e+09  2.700559e+09   NaN          NaN  \n",
       "Afghanistan   1.990711e+10  1.904636e+10  1.954398e+10   NaN          NaN  \n",
       "Angola        1.161936e+11  1.011239e+11  1.221238e+11   NaN          NaN  \n",
       "Albania       1.138693e+10  1.188368e+10  1.303854e+10   NaN          NaN  \n",
       "Andorra       2.811489e+09  2.877312e+09  3.012914e+09   NaN          NaN  \n",
       "\n",
       "[5 rows x 64 columns]"
      ]
     },
     "execution_count": 69,
     "metadata": {},
     "output_type": "execute_result"
    }
   ],
   "source": [
    "gdp_data[gdp_data.columns[4:]] = gdp_data[gdp_data.columns[4:]].interpolate()\n",
    "gdp_data.head()"
   ]
  },
  {
   "cell_type": "markdown",
   "metadata": {},
   "source": [
    "Next i can plot the gdp of Afghanistan on a line chart."
   ]
  },
  {
   "cell_type": "code",
   "execution_count": 74,
   "metadata": {},
   "outputs": [],
   "source": [
    "import matplotlib.pyplot as plt"
   ]
  },
  {
   "cell_type": "code",
   "execution_count": 80,
   "metadata": {},
   "outputs": [
    {
     "data": {
      "image/png": "[encoded data removed]",
      "text/plain": [
       "<Figure size 432x288 with 1 Axes>"
      ]
     },
     "metadata": {
      "needs_background": "light"
     },
     "output_type": "display_data"
    }
   ],
   "source": [
    "afg = gdp_data.loc[\"Afghanistan\"][4:-1]\n",
    "xs = afg.index\n",
    "ys = afg\n",
    "labels = list(map(lambda p: p[1] if p[0] % 5 == 0 else \"\", enumerate(xs)))\n",
    "plt.figure()\n",
    "plt.plot(xs, ys)\n",
    "plt.xticks(xs, labels, rotation=90)\n",
    "plt.show()"
   ]
  },
  {
   "cell_type": "markdown",
   "metadata": {},
   "source": [
    "### What is an axis in a Matplotlib plot?"
   ]
  },
  {
   "cell_type": "markdown",
   "metadata": {},
   "source": [
    "An axis is a an object responsible for drawing a line, the ticks and the label of a matplot dimension. In most charts there are two axis, `x` and `y`."
   ]
  },
  {
   "cell_type": "markdown",
   "metadata": {},
   "source": [
    "## Intro to Numpy and Plotting Cntd.,"
   ]
  },
  {
   "cell_type": "markdown",
   "metadata": {},
   "source": [
    "### What does it mean that an array has a shape?"
   ]
  },
  {
   "cell_type": "markdown",
   "metadata": {},
   "source": [
    "A shape describes the dimensions of an array. The shape is representet using a tuple in numpy."
   ]
  },
  {
   "cell_type": "code",
   "execution_count": 84,
   "metadata": {},
   "outputs": [
    {
     "data": {
      "text/plain": [
       "(array([1, 2, 3, 4, 5]), (5,))"
      ]
     },
     "execution_count": 84,
     "metadata": {},
     "output_type": "execute_result"
    }
   ],
   "source": [
    "a = np.array([1, 2, 3, 4, 5])\n",
    "(a, a.shape)"
   ]
  },
  {
   "cell_type": "code",
   "execution_count": 85,
   "metadata": {},
   "outputs": [
    {
     "data": {
      "text/plain": [
       "(array([[1, 2, 3],\n",
       "        [4, 5, 6],\n",
       "        [7, 8, 9]]), (3, 3))"
      ]
     },
     "execution_count": 85,
     "metadata": {},
     "output_type": "execute_result"
    }
   ],
   "source": [
    "a = np.array([[1, 2, 3], [4, 5, 6], [7, 8, 9]])\n",
    "(a, a.shape)"
   ]
  },
  {
   "cell_type": "markdown",
   "metadata": {},
   "source": [
    "You can change the shape of numpy arrays using the `reshape` method."
   ]
  },
  {
   "cell_type": "code",
   "execution_count": 86,
   "metadata": {},
   "outputs": [
    {
     "data": {
      "text/plain": [
       "(array([[1, 2],\n",
       "        [3, 4]]), (2, 2))"
      ]
     },
     "execution_count": 86,
     "metadata": {},
     "output_type": "execute_result"
    }
   ],
   "source": [
    "a = np.array([1, 2, 3, 4]).reshape(2, 2)\n",
    "(a, a.shape)"
   ]
  },
  {
   "cell_type": "markdown",
   "metadata": {},
   "source": [
    "Many operations in python, and machine learning require that data has the same shape."
   ]
  },
  {
   "cell_type": "markdown",
   "metadata": {},
   "source": [
    "### How do you plot multiple lines in Matplotlib?"
   ]
  },
  {
   "cell_type": "markdown",
   "metadata": {},
   "source": [
    "We can draw multiple plots by calling the plot method multiple times."
   ]
  },
  {
   "cell_type": "code",
   "execution_count": 93,
   "metadata": {},
   "outputs": [
    {
     "data": {
      "image/png": "[encoded data removed]",
      "text/plain": [
       "<Figure size 432x288 with 1 Axes>"
      ]
     },
     "metadata": {
      "needs_background": "light"
     },
     "output_type": "display_data"
    }
   ],
   "source": [
    "def plot_line(country):\n",
    "    c_data = gdp_data.loc[country][4:-1]\n",
    "    xs = c_data.index\n",
    "    ys = c_data\n",
    "    plt.plot(xs, ys)\n",
    "\n",
    "plt.figure()\n",
    "countries_to_show = gdp_data.index[:3]\n",
    "for country in countries_to_show:\n",
    "    plot_line(country)\n",
    "labels = list(map(lambda p: p[1] if p[0] % 5 == 0 else \"\", enumerate(xs)))\n",
    "plt.xticks(xs, labels, rotation=90)\n",
    "plt.legend(countries_to_show)\n",
    "plt.show()"
   ]
  },
  {
   "cell_type": "markdown",
   "metadata": {},
   "source": [
    "## Intro to Pandas"
   ]
  },
  {
   "cell_type": "markdown",
   "metadata": {},
   "source": [
    "### What is a DataFrame?"
   ]
  },
  {
   "cell_type": "markdown",
   "metadata": {},
   "source": [
    "> Dataframe in python comes with pandas library. It is a 2- dimensional data structure, i.e., data is aligned in a tabular form in rows and column.\n",
    "\n",
    "> The size of pandas dataframe is Mutable, the columns can be of different types and one can perform Arithmetic operation on rows and columns of dataframe.\n",
    "\n",
    "> Series is a one-dimensional labeled array capable of holding any data type (integers, strings, floating point numbers, Python objects, etc.). The axis labels are collectively referred to as the index. The basic method to create a Series is to call:"
   ]
  },
  {
   "cell_type": "code",
   "execution_count": 94,
   "metadata": {},
   "outputs": [
    {
     "data": {
      "text/html": [
       "<div>\n",
       "<style scoped>\n",
       "    .dataframe tbody tr th:only-of-type {\n",
       "        vertical-align: middle;\n",
       "    }\n",
       "\n",
       "    .dataframe tbody tr th {\n",
       "        vertical-align: top;\n",
       "    }\n",
       "\n",
       "    .dataframe thead th {\n",
       "        text-align: right;\n",
       "    }\n",
       "</style>\n",
       "<table border=\"1\" class=\"dataframe\">\n",
       "  <thead>\n",
       "    <tr style=\"text-align: right;\">\n",
       "      <th></th>\n",
       "      <th>Country Name</th>\n",
       "      <th>Country Code</th>\n",
       "      <th>Indicator Name</th>\n",
       "      <th>Indicator Code</th>\n",
       "      <th>1960</th>\n",
       "      <th>1961</th>\n",
       "      <th>1962</th>\n",
       "      <th>1963</th>\n",
       "      <th>1964</th>\n",
       "      <th>1965</th>\n",
       "      <th>...</th>\n",
       "      <th>2010</th>\n",
       "      <th>2011</th>\n",
       "      <th>2012</th>\n",
       "      <th>2013</th>\n",
       "      <th>2014</th>\n",
       "      <th>2015</th>\n",
       "      <th>2016</th>\n",
       "      <th>2017</th>\n",
       "      <th>2018</th>\n",
       "      <th>Unnamed: 63</th>\n",
       "    </tr>\n",
       "    <tr>\n",
       "      <th>Country Name</th>\n",
       "      <th></th>\n",
       "      <th></th>\n",
       "      <th></th>\n",
       "      <th></th>\n",
       "      <th></th>\n",
       "      <th></th>\n",
       "      <th></th>\n",
       "      <th></th>\n",
       "      <th></th>\n",
       "      <th></th>\n",
       "      <th></th>\n",
       "      <th></th>\n",
       "      <th></th>\n",
       "      <th></th>\n",
       "      <th></th>\n",
       "      <th></th>\n",
       "      <th></th>\n",
       "      <th></th>\n",
       "      <th></th>\n",
       "      <th></th>\n",
       "      <th></th>\n",
       "    </tr>\n",
       "  </thead>\n",
       "  <tbody>\n",
       "    <tr>\n",
       "      <th>Aruba</th>\n",
       "      <td>Aruba</td>\n",
       "      <td>ABW</td>\n",
       "      <td>GDP (current US$)</td>\n",
       "      <td>NY.GDP.MKTP.CD</td>\n",
       "      <td>NaN</td>\n",
       "      <td>NaN</td>\n",
       "      <td>NaN</td>\n",
       "      <td>NaN</td>\n",
       "      <td>NaN</td>\n",
       "      <td>NaN</td>\n",
       "      <td>...</td>\n",
       "      <td>2.390503e+09</td>\n",
       "      <td>2.549721e+09</td>\n",
       "      <td>2.534637e+09</td>\n",
       "      <td>2.581564e+09</td>\n",
       "      <td>2.649721e+09</td>\n",
       "      <td>2.691620e+09</td>\n",
       "      <td>2.646927e+09</td>\n",
       "      <td>2.700559e+09</td>\n",
       "      <td>NaN</td>\n",
       "      <td>NaN</td>\n",
       "    </tr>\n",
       "    <tr>\n",
       "      <th>Afghanistan</th>\n",
       "      <td>Afghanistan</td>\n",
       "      <td>AFG</td>\n",
       "      <td>GDP (current US$)</td>\n",
       "      <td>NY.GDP.MKTP.CD</td>\n",
       "      <td>5.377778e+08</td>\n",
       "      <td>5.488889e+08</td>\n",
       "      <td>5.466667e+08</td>\n",
       "      <td>7.511112e+08</td>\n",
       "      <td>8.000000e+08</td>\n",
       "      <td>1.006667e+09</td>\n",
       "      <td>...</td>\n",
       "      <td>1.585657e+10</td>\n",
       "      <td>1.780429e+10</td>\n",
       "      <td>1.990732e+10</td>\n",
       "      <td>2.056107e+10</td>\n",
       "      <td>2.048489e+10</td>\n",
       "      <td>1.990711e+10</td>\n",
       "      <td>1.904636e+10</td>\n",
       "      <td>1.954398e+10</td>\n",
       "      <td>NaN</td>\n",
       "      <td>NaN</td>\n",
       "    </tr>\n",
       "    <tr>\n",
       "      <th>Angola</th>\n",
       "      <td>Angola</td>\n",
       "      <td>AGO</td>\n",
       "      <td>GDP (current US$)</td>\n",
       "      <td>NY.GDP.MKTP.CD</td>\n",
       "      <td>2.341319e+09</td>\n",
       "      <td>2.458834e+09</td>\n",
       "      <td>4.530656e+09</td>\n",
       "      <td>3.671280e+09</td>\n",
       "      <td>4.934208e+09</td>\n",
       "      <td>5.563007e+09</td>\n",
       "      <td>...</td>\n",
       "      <td>8.379950e+10</td>\n",
       "      <td>1.117897e+11</td>\n",
       "      <td>1.280529e+11</td>\n",
       "      <td>1.367099e+11</td>\n",
       "      <td>1.457122e+11</td>\n",
       "      <td>1.161936e+11</td>\n",
       "      <td>1.011239e+11</td>\n",
       "      <td>1.221238e+11</td>\n",
       "      <td>NaN</td>\n",
       "      <td>NaN</td>\n",
       "    </tr>\n",
       "    <tr>\n",
       "      <th>Albania</th>\n",
       "      <td>Albania</td>\n",
       "      <td>ALB</td>\n",
       "      <td>GDP (current US$)</td>\n",
       "      <td>NY.GDP.MKTP.CD</td>\n",
       "      <td>4.144860e+09</td>\n",
       "      <td>4.368778e+09</td>\n",
       "      <td>8.514646e+09</td>\n",
       "      <td>6.591449e+09</td>\n",
       "      <td>9.068416e+09</td>\n",
       "      <td>1.011935e+10</td>\n",
       "      <td>...</td>\n",
       "      <td>1.192696e+10</td>\n",
       "      <td>1.289087e+10</td>\n",
       "      <td>1.231978e+10</td>\n",
       "      <td>1.277628e+10</td>\n",
       "      <td>1.322825e+10</td>\n",
       "      <td>1.138693e+10</td>\n",
       "      <td>1.188368e+10</td>\n",
       "      <td>1.303854e+10</td>\n",
       "      <td>NaN</td>\n",
       "      <td>NaN</td>\n",
       "    </tr>\n",
       "    <tr>\n",
       "      <th>Andorra</th>\n",
       "      <td>Andorra</td>\n",
       "      <td>AND</td>\n",
       "      <td>GDP (current US$)</td>\n",
       "      <td>NY.GDP.MKTP.CD</td>\n",
       "      <td>5.948401e+09</td>\n",
       "      <td>6.278723e+09</td>\n",
       "      <td>1.249864e+10</td>\n",
       "      <td>9.511617e+09</td>\n",
       "      <td>1.320262e+10</td>\n",
       "      <td>1.467569e+10</td>\n",
       "      <td>...</td>\n",
       "      <td>3.355695e+09</td>\n",
       "      <td>3.442063e+09</td>\n",
       "      <td>3.164615e+09</td>\n",
       "      <td>3.281585e+09</td>\n",
       "      <td>3.350736e+09</td>\n",
       "      <td>2.811489e+09</td>\n",
       "      <td>2.877312e+09</td>\n",
       "      <td>3.012914e+09</td>\n",
       "      <td>NaN</td>\n",
       "      <td>NaN</td>\n",
       "    </tr>\n",
       "  </tbody>\n",
       "</table>\n",
       "<p>5 rows × 64 columns</p>\n",
       "</div>"
      ],
      "text/plain": [
       "             Country Name Country Code     Indicator Name  Indicator Code  \\\n",
       "Country Name                                                                \n",
       "Aruba               Aruba          ABW  GDP (current US$)  NY.GDP.MKTP.CD   \n",
       "Afghanistan   Afghanistan          AFG  GDP (current US$)  NY.GDP.MKTP.CD   \n",
       "Angola             Angola          AGO  GDP (current US$)  NY.GDP.MKTP.CD   \n",
       "Albania           Albania          ALB  GDP (current US$)  NY.GDP.MKTP.CD   \n",
       "Andorra           Andorra          AND  GDP (current US$)  NY.GDP.MKTP.CD   \n",
       "\n",
       "                      1960          1961          1962          1963  \\\n",
       "Country Name                                                           \n",
       "Aruba                  NaN           NaN           NaN           NaN   \n",
       "Afghanistan   5.377778e+08  5.488889e+08  5.466667e+08  7.511112e+08   \n",
       "Angola        2.341319e+09  2.458834e+09  4.530656e+09  3.671280e+09   \n",
       "Albania       4.144860e+09  4.368778e+09  8.514646e+09  6.591449e+09   \n",
       "Andorra       5.948401e+09  6.278723e+09  1.249864e+10  9.511617e+09   \n",
       "\n",
       "                      1964          1965     ...               2010  \\\n",
       "Country Name                                 ...                      \n",
       "Aruba                  NaN           NaN     ...       2.390503e+09   \n",
       "Afghanistan   8.000000e+08  1.006667e+09     ...       1.585657e+10   \n",
       "Angola        4.934208e+09  5.563007e+09     ...       8.379950e+10   \n",
       "Albania       9.068416e+09  1.011935e+10     ...       1.192696e+10   \n",
       "Andorra       1.320262e+10  1.467569e+10     ...       3.355695e+09   \n",
       "\n",
       "                      2011          2012          2013          2014  \\\n",
       "Country Name                                                           \n",
       "Aruba         2.549721e+09  2.534637e+09  2.581564e+09  2.649721e+09   \n",
       "Afghanistan   1.780429e+10  1.990732e+10  2.056107e+10  2.048489e+10   \n",
       "Angola        1.117897e+11  1.280529e+11  1.367099e+11  1.457122e+11   \n",
       "Albania       1.289087e+10  1.231978e+10  1.277628e+10  1.322825e+10   \n",
       "Andorra       3.442063e+09  3.164615e+09  3.281585e+09  3.350736e+09   \n",
       "\n",
       "                      2015          2016          2017  2018  Unnamed: 63  \n",
       "Country Name                                                               \n",
       "Aruba         2.691620e+09  2.646927e+09  2.700559e+09   NaN          NaN  \n",
       "Afghanistan   1.990711e+10  1.904636e+10  1.954398e+10   NaN          NaN  \n",
       "Angola        1.161936e+11  1.011239e+11  1.221238e+11   NaN          NaN  \n",
       "Albania       1.138693e+10  1.188368e+10  1.303854e+10   NaN          NaN  \n",
       "Andorra       2.811489e+09  2.877312e+09  3.012914e+09   NaN          NaN  \n",
       "\n",
       "[5 rows x 64 columns]"
      ]
     },
     "execution_count": 94,
     "metadata": {},
     "output_type": "execute_result"
    }
   ],
   "source": [
    "gdp_data.head()"
   ]
  },
  {
   "cell_type": "markdown",
   "metadata": {},
   "source": [
    "### How do you access a row in a DataFrame?"
   ]
  },
  {
   "cell_type": "markdown",
   "metadata": {},
   "source": [
    "Rows in a database can be accessed by their numeric index, or their given index. In the above dataframe their index is the name of the country. Many times their given index is just the numeric index."
   ]
  },
  {
   "cell_type": "code",
   "execution_count": 95,
   "metadata": {},
   "outputs": [
    {
     "data": {
      "text/plain": [
       "Index(['Aruba', 'Afghanistan', 'Angola', 'Albania', 'Andorra', 'Arab World',\n",
       "       'United Arab Emirates', 'Argentina', 'Armenia', 'American Samoa',\n",
       "       ...\n",
       "       'Virgin Islands (U.S.)', 'Vietnam', 'Vanuatu', 'World', 'Samoa',\n",
       "       'Kosovo', 'Yemen, Rep.', 'South Africa', 'Zambia', 'Zimbabwe'],\n",
       "      dtype='object', name='Country Name', length=264)"
      ]
     },
     "execution_count": 95,
     "metadata": {},
     "output_type": "execute_result"
    }
   ],
   "source": [
    "gdp_data.index"
   ]
  },
  {
   "cell_type": "markdown",
   "metadata": {},
   "source": [
    "Using the `loc` property, we can access the row by their given index."
   ]
  },
  {
   "cell_type": "code",
   "execution_count": 97,
   "metadata": {},
   "outputs": [
    {
     "data": {
      "text/plain": [
       "Country Name                  Aruba\n",
       "Country Code                    ABW\n",
       "Indicator Name    GDP (current US$)\n",
       "Indicator Code       NY.GDP.MKTP.CD\n",
       "1960                            NaN\n",
       "Name: Aruba, dtype: object"
      ]
     },
     "execution_count": 97,
     "metadata": {},
     "output_type": "execute_result"
    }
   ],
   "source": [
    "gdp_data.loc['Aruba'].head()"
   ]
  },
  {
   "cell_type": "markdown",
   "metadata": {},
   "source": [
    "Using the `iloc` property, we can access the row by their numeric index."
   ]
  },
  {
   "cell_type": "code",
   "execution_count": 102,
   "metadata": {},
   "outputs": [
    {
     "data": {
      "text/plain": [
       "Country Name                  Aruba\n",
       "Country Code                    ABW\n",
       "Indicator Name    GDP (current US$)\n",
       "Indicator Code       NY.GDP.MKTP.CD\n",
       "1960                            NaN\n",
       "Name: Aruba, dtype: object"
      ]
     },
     "execution_count": 102,
     "metadata": {},
     "output_type": "execute_result"
    }
   ],
   "source": [
    "gdp_data.iloc[0].head()"
   ]
  },
  {
   "cell_type": "markdown",
   "metadata": {},
   "source": [
    "We can access multiple rows at the same time:"
   ]
  },
  {
   "cell_type": "code",
   "execution_count": 100,
   "metadata": {},
   "outputs": [
    {
     "data": {
      "text/html": [
       "<div>\n",
       "<style scoped>\n",
       "    .dataframe tbody tr th:only-of-type {\n",
       "        vertical-align: middle;\n",
       "    }\n",
       "\n",
       "    .dataframe tbody tr th {\n",
       "        vertical-align: top;\n",
       "    }\n",
       "\n",
       "    .dataframe thead th {\n",
       "        text-align: right;\n",
       "    }\n",
       "</style>\n",
       "<table border=\"1\" class=\"dataframe\">\n",
       "  <thead>\n",
       "    <tr style=\"text-align: right;\">\n",
       "      <th></th>\n",
       "      <th>Country Name</th>\n",
       "      <th>Country Code</th>\n",
       "      <th>Indicator Name</th>\n",
       "      <th>Indicator Code</th>\n",
       "      <th>1960</th>\n",
       "      <th>1961</th>\n",
       "      <th>1962</th>\n",
       "      <th>1963</th>\n",
       "      <th>1964</th>\n",
       "      <th>1965</th>\n",
       "      <th>...</th>\n",
       "      <th>2010</th>\n",
       "      <th>2011</th>\n",
       "      <th>2012</th>\n",
       "      <th>2013</th>\n",
       "      <th>2014</th>\n",
       "      <th>2015</th>\n",
       "      <th>2016</th>\n",
       "      <th>2017</th>\n",
       "      <th>2018</th>\n",
       "      <th>Unnamed: 63</th>\n",
       "    </tr>\n",
       "    <tr>\n",
       "      <th>Country Name</th>\n",
       "      <th></th>\n",
       "      <th></th>\n",
       "      <th></th>\n",
       "      <th></th>\n",
       "      <th></th>\n",
       "      <th></th>\n",
       "      <th></th>\n",
       "      <th></th>\n",
       "      <th></th>\n",
       "      <th></th>\n",
       "      <th></th>\n",
       "      <th></th>\n",
       "      <th></th>\n",
       "      <th></th>\n",
       "      <th></th>\n",
       "      <th></th>\n",
       "      <th></th>\n",
       "      <th></th>\n",
       "      <th></th>\n",
       "      <th></th>\n",
       "      <th></th>\n",
       "    </tr>\n",
       "  </thead>\n",
       "  <tbody>\n",
       "    <tr>\n",
       "      <th>Afghanistan</th>\n",
       "      <td>Afghanistan</td>\n",
       "      <td>AFG</td>\n",
       "      <td>GDP (current US$)</td>\n",
       "      <td>NY.GDP.MKTP.CD</td>\n",
       "      <td>5.377778e+08</td>\n",
       "      <td>5.488889e+08</td>\n",
       "      <td>5.466667e+08</td>\n",
       "      <td>7.511112e+08</td>\n",
       "      <td>8.000000e+08</td>\n",
       "      <td>1.006667e+09</td>\n",
       "      <td>...</td>\n",
       "      <td>1.585657e+10</td>\n",
       "      <td>1.780429e+10</td>\n",
       "      <td>1.990732e+10</td>\n",
       "      <td>2.056107e+10</td>\n",
       "      <td>2.048489e+10</td>\n",
       "      <td>1.990711e+10</td>\n",
       "      <td>1.904636e+10</td>\n",
       "      <td>1.954398e+10</td>\n",
       "      <td>NaN</td>\n",
       "      <td>NaN</td>\n",
       "    </tr>\n",
       "    <tr>\n",
       "      <th>Angola</th>\n",
       "      <td>Angola</td>\n",
       "      <td>AGO</td>\n",
       "      <td>GDP (current US$)</td>\n",
       "      <td>NY.GDP.MKTP.CD</td>\n",
       "      <td>2.341319e+09</td>\n",
       "      <td>2.458834e+09</td>\n",
       "      <td>4.530656e+09</td>\n",
       "      <td>3.671280e+09</td>\n",
       "      <td>4.934208e+09</td>\n",
       "      <td>5.563007e+09</td>\n",
       "      <td>...</td>\n",
       "      <td>8.379950e+10</td>\n",
       "      <td>1.117897e+11</td>\n",
       "      <td>1.280529e+11</td>\n",
       "      <td>1.367099e+11</td>\n",
       "      <td>1.457122e+11</td>\n",
       "      <td>1.161936e+11</td>\n",
       "      <td>1.011239e+11</td>\n",
       "      <td>1.221238e+11</td>\n",
       "      <td>NaN</td>\n",
       "      <td>NaN</td>\n",
       "    </tr>\n",
       "  </tbody>\n",
       "</table>\n",
       "<p>2 rows × 64 columns</p>\n",
       "</div>"
      ],
      "text/plain": [
       "             Country Name Country Code     Indicator Name  Indicator Code  \\\n",
       "Country Name                                                                \n",
       "Afghanistan   Afghanistan          AFG  GDP (current US$)  NY.GDP.MKTP.CD   \n",
       "Angola             Angola          AGO  GDP (current US$)  NY.GDP.MKTP.CD   \n",
       "\n",
       "                      1960          1961          1962          1963  \\\n",
       "Country Name                                                           \n",
       "Afghanistan   5.377778e+08  5.488889e+08  5.466667e+08  7.511112e+08   \n",
       "Angola        2.341319e+09  2.458834e+09  4.530656e+09  3.671280e+09   \n",
       "\n",
       "                      1964          1965     ...               2010  \\\n",
       "Country Name                                 ...                      \n",
       "Afghanistan   8.000000e+08  1.006667e+09     ...       1.585657e+10   \n",
       "Angola        4.934208e+09  5.563007e+09     ...       8.379950e+10   \n",
       "\n",
       "                      2011          2012          2013          2014  \\\n",
       "Country Name                                                           \n",
       "Afghanistan   1.780429e+10  1.990732e+10  2.056107e+10  2.048489e+10   \n",
       "Angola        1.117897e+11  1.280529e+11  1.367099e+11  1.457122e+11   \n",
       "\n",
       "                      2015          2016          2017  2018  Unnamed: 63  \n",
       "Country Name                                                               \n",
       "Afghanistan   1.990711e+10  1.904636e+10  1.954398e+10   NaN          NaN  \n",
       "Angola        1.161936e+11  1.011239e+11  1.221238e+11   NaN          NaN  \n",
       "\n",
       "[2 rows x 64 columns]"
      ]
     },
     "execution_count": 100,
     "metadata": {},
     "output_type": "execute_result"
    }
   ],
   "source": [
    "gdp_data.iloc[[1, 2]]"
   ]
  },
  {
   "cell_type": "markdown",
   "metadata": {},
   "source": [
    "## Multiprocessing, generators and intro to Requests"
   ]
  },
  {
   "cell_type": "markdown",
   "metadata": {},
   "source": [
    "### What is the difference between an iterator and a generator?"
   ]
  },
  {
   "cell_type": "markdown",
   "metadata": {},
   "source": [
    "> Iterator is a more general concept: any object whose class has a next method (__next__ in Python 3) and an __iter__ method that does return self.\n",
    "\n",
    "> Every generator is an iterator, but not vice versa. A generator is built by calling a function that has one or more yield expressions (yield statements, in Python 2.5 and earlier), and is an object that meets the previous paragraph's definition of an iterator.\n",
    "\n",
    "> You may want to use a custom iterator, rather than a generator, when you need a class with somewhat complex state-maintaining behavior, or want to expose other methods besides next (and __iter__ and __init__). Most often, a generator (sometimes, for sufficiently simple needs, a generator expression) is sufficient, and it's simpler to code because state maintenance (within reasonable limits) is basically \"done for you\" by the frame getting suspended and resumed.\n",
    "\n",
    "There is a difference between `Iterable` and `Iterator`. Lists are `Iterable` which means that they have a `__iter__` method, that returns an `Iterator`. `Iterator`s have"
   ]
  },
  {
   "cell_type": "code",
   "execution_count": 122,
   "metadata": {},
   "outputs": [
    {
     "name": "stdout",
     "output_type": "stream",
     "text": [
      "1\n",
      "2\n",
      "3\n"
     ]
    }
   ],
   "source": [
    "# Iterator example\n",
    "class MyIterator():\n",
    "    \n",
    "    def __init__(self):\n",
    "        self.counter = 0\n",
    "    \n",
    "    def __next__(self):\n",
    "        self.counter += 1\n",
    "        return self.counter\n",
    "        \n",
    "iterator = MyIterator()\n",
    "print(next(iterator))\n",
    "print(next(iterator))\n",
    "print(next(iterator))"
   ]
  },
  {
   "cell_type": "markdown",
   "metadata": {},
   "source": [
    "To stop iteration we can raise a `StopIteration` exception."
   ]
  },
  {
   "cell_type": "code",
   "execution_count": 124,
   "metadata": {},
   "outputs": [
    {
     "name": "stdout",
     "output_type": "stream",
     "text": [
      "1\n",
      "2\n",
      "3\n",
      "4\n",
      "5\n"
     ]
    }
   ],
   "source": [
    "# Iterable example\n",
    "class MyIterable():\n",
    "    \n",
    "    def __init__(self):\n",
    "        self.counter = 0\n",
    "        \n",
    "    def __iter__(self):\n",
    "        self.counter = 0\n",
    "        return self\n",
    "    \n",
    "    def __next__(self):\n",
    "        self.counter += 1\n",
    "        if self.counter > 5:\n",
    "            raise StopIteration()\n",
    "        return self.counter\n",
    "        \n",
    "iterable = MyIterable()\n",
    "for i in iterable:\n",
    "    print(i)"
   ]
  },
  {
   "cell_type": "markdown",
   "metadata": {},
   "source": [
    "### How do you parallelise programs in Python?"
   ]
  },
  {
   "cell_type": "markdown",
   "metadata": {},
   "source": [
    "We can use the `multiprocessing` module in python."
   ]
  },
  {
   "cell_type": "code",
   "execution_count": null,
   "metadata": {},
   "outputs": [],
   "source": [
    "# parallelize.py"
   ]
  },
  {
   "cell_type": "markdown",
   "metadata": {},
   "source": [
    "## Graphs & PageRank"
   ]
  },
  {
   "cell_type": "markdown",
   "metadata": {},
   "source": [
    "### What is a graph?"
   ]
  },
  {
   "cell_type": "markdown",
   "metadata": {},
   "source": [
    ">In mathematics, and more specifically in graph theory, a graph is a structure amounting to a set of objects in which some pairs of the objects are in some sense \"related\". The objects correspond to mathematical abstractions called vertices (also called nodes or points) and each of the related pairs of vertices is called an edge (also called link or line).[1] Typically, a graph is depicted in diagrammatic form as a set of dots or circles for the vertices, joined by lines or curves for the edges. Graphs are one of the objects of study in discrete mathematics.\n",
    "\n",
    ">The edges may be directed or undirected. For example, if the vertices represent people at a party, and there is an edge between two people if they shake hands, then this graph is undirected because any person A can shake hands with a person B only if B also shakes hands with A. In contrast, if any edge from a person A to a person B corresponds to A admiring B, then this graph is directed, because admiration is not necessarily reciprocated. The former type of graph is called an undirected graph while the latter type of graph is called a directed graph."
   ]
  },
  {
   "cell_type": "markdown",
   "metadata": {},
   "source": [
    "## Why does the PageRank algorithm exist?"
   ]
  },
  {
   "cell_type": "markdown",
   "metadata": {},
   "source": [
    "The PageRank algorithm exists to find an accurate popularity score of websites."
   ]
  },
  {
   "cell_type": "code",
   "execution_count": null,
   "metadata": {},
   "outputs": [],
   "source": [
    "import re\n",
    "\n",
    "pattern = re.compile('^\"([^\"]+)\"')\n",
    "pattern.findall(open(\"gdp_data.csv\").read())"
   ]
  },
  {
   "cell_type": "markdown",
   "metadata": {},
   "source": [
    "# Regular expression"
   ]
  },
  {
   "cell_type": "markdown",
   "metadata": {},
   "source": [
    "## What is Regex"
   ]
  },
  {
   "cell_type": "markdown",
   "metadata": {},
   "source": [
    ">A regular expression is a special text string for describing a search pattern.\n",
    "\n",
    "We can for example search for the country names in gdp_data.csv:"
   ]
  },
  {
   "cell_type": "code",
   "execution_count": 51,
   "metadata": {},
   "outputs": [
    {
     "name": "stdout",
     "output_type": "stream",
     "text": [
      "['\"Aruba\"', '\"Afghanistan\"', '\"Angola\"', '\"Albania\"', '\"Andorra\"', '\"Arab World\"', '\"United Arab Emirates\"', '\"Argentina\"', '\"Armenia\"', '\"American Samoa\"', '\"Antigua and Barbuda\"', '\"Australia\"', '\"Austria\"', '\"Azerbaijan\"', '\"Burundi\"', '\"Belgium\"', '\"Benin\"', '\"Burkina Faso\"', '\"Bangladesh\"', '\"Bulgaria\"', '\"Bahrain\"', '\"Bosnia and Herzegovina\"', '\"Belarus\"', '\"Belize\"', '\"Bermuda\"', '\"Bolivia\"', '\"Brazil\"', '\"Barbados\"', '\"Brunei Darussalam\"', '\"Bhutan\"', '\"Botswana\"', '\"Central African Republic\"', '\"Canada\"', '\"Central Europe and the Baltics\"', '\"Switzerland\"', '\"Channel Islands\"', '\"Chile\"', '\"China\"', '\"Cameroon\"', '\"Colombia\"', '\"Comoros\"', '\"Cabo Verde\"', '\"Costa Rica\"', '\"Caribbean small states\"', '\"Cuba\"', '\"Curacao\"', '\"Cayman Islands\"', '\"Cyprus\"', '\"Czech Republic\"', '\"Germany\"', '\"Djibouti\"', '\"Dominica\"', '\"Denmark\"', '\"Dominican Republic\"', '\"Algeria\"', '\"Ecuador\"', '\"Euro area\"', '\"Eritrea\"', '\"Spain\"', '\"Estonia\"', '\"Ethiopia\"', '\"European Union\"', '\"Fragile and conflict affected situations\"', '\"Finland\"', '\"Fiji\"', '\"France\"', '\"Faroe Islands\"', '\"Gabon\"', '\"United Kingdom\"', '\"Georgia\"', '\"Ghana\"', '\"Gibraltar\"', '\"Guinea\"', '\"Equatorial Guinea\"', '\"Greece\"', '\"Grenada\"', '\"Greenland\"', '\"Guatemala\"', '\"Guam\"', '\"Guyana\"', '\"High income\"', '\"Honduras\"', '\"Croatia\"', '\"Haiti\"', '\"Hungary\"', '\"IBRD only\"', '\"IDA total\"', '\"IDA blend\"', '\"Indonesia\"', '\"IDA only\"', '\"Isle of Man\"', '\"India\"', '\"Not classified\"', '\"Ireland\"', '\"Iraq\"', '\"Iceland\"', '\"Israel\"', '\"Italy\"', '\"Jamaica\"', '\"Jordan\"', '\"Japan\"', '\"Kazakhstan\"', '\"Kenya\"', '\"Kyrgyz Republic\"', '\"Cambodia\"', '\"Kiribati\"', '\"Kuwait\"', '\"Lao PDR\"', '\"Lebanon\"', '\"Liberia\"', '\"Libya\"', '\"Low income\"', '\"Liechtenstein\"', '\"Sri Lanka\"', '\"Lower middle income\"', '\"Lesotho\"', '\"Lithuania\"', '\"Luxembourg\"', '\"Latvia\"', '\"Morocco\"', '\"Monaco\"', '\"Moldova\"', '\"Madagascar\"', '\"Maldives\"', '\"Mexico\"', '\"Marshall Islands\"', '\"Middle income\"', '\"North Macedonia\"', '\"Mali\"', '\"Malta\"', '\"Myanmar\"', '\"Montenegro\"', '\"Mongolia\"', '\"Northern Mariana Islands\"', '\"Mozambique\"', '\"Mauritania\"', '\"Mauritius\"', '\"Malawi\"', '\"Malaysia\"', '\"North America\"', '\"Namibia\"', '\"New Caledonia\"', '\"Niger\"', '\"Nigeria\"', '\"Nicaragua\"', '\"Netherlands\"', '\"Norway\"', '\"Nepal\"', '\"Nauru\"', '\"New Zealand\"', '\"OECD members\"', '\"Oman\"', '\"Other small states\"', '\"Pakistan\"', '\"Panama\"', '\"Peru\"', '\"Philippines\"', '\"Palau\"', '\"Papua New Guinea\"', '\"Poland\"', '\"Puerto Rico\"', '\"Portugal\"', '\"Paraguay\"', '\"West Bank and Gaza\"', '\"Pacific island small states\"', '\"French Polynesia\"', '\"Qatar\"', '\"Romania\"', '\"Russian Federation\"', '\"Rwanda\"', '\"South Asia\"', '\"Saudi Arabia\"', '\"Sudan\"', '\"Senegal\"', '\"Singapore\"', '\"Solomon Islands\"', '\"Sierra Leone\"', '\"El Salvador\"', '\"San Marino\"', '\"Somalia\"', '\"Serbia\"', '\"South Sudan\"', '\"Small states\"', '\"Sao Tome and Principe\"', '\"Suriname\"', '\"Slovak Republic\"', '\"Slovenia\"', '\"Sweden\"', '\"Eswatini\"', '\"Seychelles\"', '\"Syrian Arab Republic\"', '\"Turks and Caicos Islands\"', '\"Chad\"', '\"Togo\"', '\"Thailand\"', '\"Tajikistan\"', '\"Turkmenistan\"', '\"Tonga\"', '\"Trinidad and Tobago\"', '\"Tunisia\"', '\"Turkey\"', '\"Tuvalu\"', '\"Tanzania\"', '\"Uganda\"', '\"Ukraine\"', '\"Upper middle income\"', '\"Uruguay\"', '\"United States\"', '\"Uzbekistan\"', '\"British Virgin Islands\"', '\"Vietnam\"', '\"Vanuatu\"', '\"World\"', '\"Samoa\"', '\"Kosovo\"', '\"South Africa\"', '\"Zambia\"', '\"Zimbabwe\"']\n"
     ]
    }
   ],
   "source": [
    "import re\n",
    "\n",
    "pattern = re.compile(r\"^[\\\"][a-zA-ZæøåÆØÅ ]{1,}[\\\"]\", flags=re.MULTILINE)\n",
    "\n",
    "data = open('gdp_data.csv').read()\n",
    "\n",
    "print(pattern.findall(data))"
   ]
  },
  {
   "cell_type": "markdown",
   "metadata": {},
   "source": [
    "## Most common patterns\n",
    "\n",
    "|No|**Symbol**|**Effect**|\n",
    "|--|--|--|\n",
    "|1|.|dot matches any character except newline|\n",
    "|2|\\w|matches any word character i.e letters, alphanumeric, digits and underscore ( _ )|\n",
    "|3|\\W|matches non word characters|\n",
    "|4|\\d|matches a single digit|\n",
    "|5|\\D|matches a single character that is not a digit|\n",
    "|6|\\s|matches any white-spaces character like \\t and \\n|\n",
    "|7|\\S|matches single non white space character|\n",
    "|8|[abc]|matches single character in the set i.e either match a, b or c|\n",
    "|9|[^abc]|match a single character other than a, b and c|\n",
    "|10|[a-z]|match a single character in the range a to z.|\n",
    "|11|[a-zA-Z]|match a single character in the range a-z or A-Z|\n",
    "|12|[0-9]|match a single character in the range 0-9|\n",
    "|13|^|match start at beginning of the string|\n",
    "|14|$|match start at end of the string|\n",
    "|15|+|matches one or more of the preceding character (greedy match).|\n",
    "|16|*|matches zero or more of the preceding character (greedy match).|\n",
    "|17|?|matches zero or one of the preceding character.|"
   ]
  },
  {
   "cell_type": "markdown",
   "metadata": {},
   "source": [
    "# Selenium"
   ]
  },
  {
   "cell_type": "markdown",
   "metadata": {},
   "source": [
    ">Selenium is a software that automates browser tasks. It's mostly used for automating web applications for testing purposes, but boring web-based administration tasks can obviously be automated as well."
   ]
  },
  {
   "cell_type": "code",
   "execution_count": 52,
   "metadata": {},
   "outputs": [
    {
     "name": "stdout",
     "output_type": "stream",
     "text": [
      "\n",
      "Checking for linux64 chromedriver:75.0.3770.90 in cache\n",
      "Driver found in /home/ulhaq/.wdm/chromedriver/75.0.3770.90/linux64/chromedriver\n"
     ]
    }
   ],
   "source": [
    "from selenium import webdriver\n",
    "from selenium.webdriver.common.keys import Keys\n",
    "from webdriver_manager.chrome import ChromeDriverManager\n",
    "\n",
    "browser = webdriver.Chrome(ChromeDriverManager().install())\n",
    "browser.get(\"https://www.google.com/\")\n",
    "\n",
    "elm = browser.find_elements_by_name(\"q\")[0]\n",
    "elm.send_keys(\"selenium automation software\")\n",
    "\n",
    "elm.send_keys(Keys.ENTER)\n",
    "\n",
    "browser.close()"
   ]
  }
 ],
 "metadata": {
  "kernelspec": {
   "display_name": "Python 3",
   "language": "python",
   "name": "python3"
  },
  "language_info": {
   "codemirror_mode": {
    "name": "ipython",
    "version": 3
   },
   "file_extension": ".py",
   "mimetype": "text/x-python",
   "name": "python",
   "nbconvert_exporter": "python",
   "pygments_lexer": "ipython3",
   "version": "3.6.8"
  }
 },
 "nbformat": 4,
 "nbformat_minor": 2
}
